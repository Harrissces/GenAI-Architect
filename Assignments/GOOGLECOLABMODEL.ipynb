{
 "cells": [
  {
   "cell_type": "code",
   "execution_count": 1,
   "id": "db92bb3b",
   "metadata": {},
   "outputs": [
    {
     "name": "stdout",
     "output_type": "stream",
     "text": [
      "✅ File created successfully using 'x' mode.\n",
      "✍️ Content written using 'w' mode.\n",
      "➕ Content appended using 'a' mode.\n",
      "\n",
      "📖 Reading content using 'r' mode:\n",
      "\n",
      "Line 1: Hello from 'w' mode.\n",
      "Line 2: This will overwrite existing content.\n",
      "Line 3: This is added using 'a' mode.\n",
      "\n"
     ]
    }
   ],
   "source": [
    "filename = \"sample.txt\"\n",
    "\n",
    "# 1. Create a new file using 'x' mode (will error if file already exists)\n",
    "try:\n",
    "    with open(filename, \"x\") as f:\n",
    "        f.write(\"This is a newly created file.\\n\")\n",
    "    print(\"✅ File created successfully using 'x' mode.\")\n",
    "except FileExistsError:\n",
    "    print(\"⚠️ File already exists. Skipping creation.\")\n",
    "\n",
    "# 2. Write (overwrite) using 'w' mode\n",
    "with open(filename, \"w\") as f:\n",
    "    f.write(\"Line 1: Hello from 'w' mode.\\n\")\n",
    "    f.write(\"Line 2: This will overwrite existing content.\\n\")\n",
    "print(\"✍️ Content written using 'w' mode.\")\n",
    "\n",
    "# 3. Append using 'a' mode\n",
    "with open(filename, \"a\") as f:\n",
    "    f.write(\"Line 3: This is added using 'a' mode.\\n\")\n",
    "print(\"➕ Content appended using 'a' mode.\")\n",
    "\n",
    "# 4. Read content using 'r' mode\n",
    "with open(filename, \"r\") as f:\n",
    "    content = f.read()\n",
    "    print(\"\\n📖 Reading content using 'r' mode:\\n\")\n",
    "    print(content)\n"
   ]
  },
  {
   "cell_type": "code",
   "execution_count": 4,
   "id": "80d76f06",
   "metadata": {},
   "outputs": [
    {
     "name": "stdout",
     "output_type": "stream",
     "text": [
      "\n",
      "📖 Reading content using 'r' mode:\n",
      "\n",
      "AI is for everyone. We should adapt it.\n",
      "AI is growing fast and everyone can use it. Itâ€™s important to learn and use AI tools today.\n",
      "Rodger's Model\n",
      "From 2010 to 2022, AI growth was slow.\n",
      "From 2022 till now, AI is growing very fast.\n",
      "Rodgerâ€™s model shows how new things spread. Now many people are starting to use AI.\n",
      "SEO â†’ AEO â†’ GEO\n",
      "â€¢\tSEO is evolving into AEO (Answer Engine Optimization) and GEO (Generative Engine Optimization)\n",
      "AI â†’ ML â†’ DL\n",
      "â€¢\tAI is a big field that makes computers smart.\n",
      "â€¢\tML (Machine Learning) is a part of AI that learns from data and patterns.\n",
      "â€¢\tDL (Deep Learning) uses artificial neural networks to learn hard things.\n",
      "Classical AI\n",
      "ML, DL, and NLP are part of Classical AI.\n",
      "Generative AI\n",
      "We give input, and AI gives output like text, image, or code.\n",
      "AI Jobs and Opportunities\n",
      "1.\tCurrent Job -We can use AI in your job to get promoted.\n",
      "2.\tFreelancer - We can give solutions using AI tools.\n",
      "â€¢\tBuild chatbots\n",
      "â€¢\tCreate automation\n",
      "â€¢\tMake AI agents and agentic AI\n",
      "1.\tAI Agency â€“-A team that gives AI solutions to businesses.\n",
      "This is called AAA (AI Automation Agency)\n",
      "You give full solutions using AI tools\n",
      "AI Roles\n",
      "â€¢\tPrompt Tuner\n",
      "â€¢\tAI Prompt Engineer\n",
      "â€¢\tAI Engineer\n",
      "â€¢\tAI Architect\n",
      "Setting Up Platforms\n",
      "1.\tPython The main language used in AI\n",
      "2.\tGitHub A place to save and share your code\n",
      "3.\tVS Code A tool to write and test your code\n",
      "4.\tHugging Face A website with ready-to-use AI models\n",
      "5.\tGoogle Colab A free tool to run your code online without installing anything.\n",
      "6.\tAll these tools are the Digital Portfolio. These tools are Mandatory.\n",
      "Adding a new line to GenAi.txt using append mode.\n",
      "\n"
     ]
    }
   ],
   "source": [
    "filename = \"GenAi.txt\"\n",
    "\n",
    "# Append new content\n",
    "with open(filename, \"a\") as f:\n",
    "    f.write(\"Adding a new line to GenAi.txt using append mode.\\n\")\n",
    "\n",
    "# Read and display the content\n",
    "with open(filename, \"r\") as f:\n",
    "    content = f.read()\n",
    "    print(\"\\n📖 Reading content using 'r' mode:\\n\")\n",
    "    print(content)\n"
   ]
  }
 ],
 "metadata": {
  "kernelspec": {
   "display_name": "venv",
   "language": "python",
   "name": "python3"
  },
  "language_info": {
   "codemirror_mode": {
    "name": "ipython",
    "version": 3
   },
   "file_extension": ".py",
   "mimetype": "text/x-python",
   "name": "python",
   "nbconvert_exporter": "python",
   "pygments_lexer": "ipython3",
   "version": "3.11.0"
  }
 },
 "nbformat": 4,
 "nbformat_minor": 5
}
