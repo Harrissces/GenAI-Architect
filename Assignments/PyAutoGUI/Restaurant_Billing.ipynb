{
  "nbformat": 4,
  "nbformat_minor": 0,
  "metadata": {
    "colab": {
      "provenance": []
    },
    "kernelspec": {
      "name": "python3",
      "display_name": "Python 3"
    },
    "language_info": {
      "name": "python"
    }
  },
  "cells": [
    {
      "cell_type": "code",
      "execution_count": null,
      "metadata": {
        "colab": {
          "base_uri": "https://localhost:8080/"
        },
        "id": "_oeKNoXWsKvL",
        "outputId": "16346ebf-6201-403b-9322-a014892adb48"
      },
      "outputs": [
        {
          "output_type": "stream",
          "name": "stdout",
          "text": [
            "Menu: ['pongal', 'dosa', 'tea', 'coffee']\n",
            "Enter your order: dosa\n",
            "dosa is available. Price is ₹25\n"
          ]
        }
      ],
      "source": [
        "# Step 1: Create menu and prices using [] and {}\n",
        "menu = ['pongal', 'dosa', 'tea', 'coffee']\n",
        "prices = {'pongal': 30, 'dosa': 25, 'tea': 10, 'coffee': 15}\n",
        "\n",
        "# Step 2: Ask user to enter an item\n",
        "order = input(\"Menu: \" + str(menu) + \"\\nEnter your order: \").lower()\n",
        "\n",
        "# Step 3: Check if item is in menu using ()\n",
        "if order in menu:\n",
        "    price = prices[order]\n",
        "    print(f\"{order} is available. Price is ₹{price}\")\n",
        "else:\n",
        "    print(f\"Sorry, {order} is not available.\")\n"
      ]
    },
    {
      "cell_type": "code",
      "source": [
        "# Step 1: Menu and prices\n",
        "menu = ['pongal', 'dosa', 'tea', 'coffee']\n",
        "prices = {'pongal': 30, 'dosa': 25, 'tea': 10, 'coffee': 15}\n",
        "\n",
        "# Step 2: Get order from user\n",
        "order = input(\"Menu: \" + str(menu) + \"\\nEnter your order: \").lower()\n",
        "\n",
        "# Step 3: Check if available\n",
        "if order in menu:\n",
        "    quantity = int(input(f\"How many {order}s do you want? \"))\n",
        "    price = prices[order]\n",
        "    total = price * quantity\n",
        "    print(f\"You ordered {quantity} {order}(s). Price per item: ₹{price}. Total bill: ₹{total}\")\n",
        "else:\n",
        "    print(f\"Sorry, {order} is not available.\")\n"
      ],
      "metadata": {
        "colab": {
          "base_uri": "https://localhost:8080/"
        },
        "id": "3pKEonhRsheP",
        "outputId": "c1803ce4-aadc-43e9-ad52-03050ab8d7df"
      },
      "execution_count": null,
      "outputs": [
        {
          "output_type": "stream",
          "name": "stdout",
          "text": [
            "Menu: ['pongal', 'dosa', 'tea', 'coffee']\n",
            "Enter your order: pongal\n",
            "How many pongals do you want? 5\n",
            "You ordered 5 pongal(s). Price per item: ₹30. Total bill: ₹150\n"
          ]
        }
      ]
    },
    {
      "cell_type": "code",
      "source": [
        "# Step 1: Menu and prices\n",
        "menu = ['pongal', 'dosa', 'tea', 'coffee']\n",
        "prices = {'pongal': 30, 'dosa': 25, 'tea': 10, 'coffee': 15}\n",
        "\n",
        "# Step 2: Store the order in a dictionary\n",
        "order_summary = {}\n",
        "\n",
        "# Step 3: Show menu\n",
        "print(\"🍽️ Menu:\")\n",
        "for item in menu:\n",
        "    print(f\"- {item.title()} : ₹{prices[item]}\")\n",
        "\n",
        "# Step 4: Ordering loop\n",
        "while True:\n",
        "    order = input(\"\\nEnter your item (or type 'done' to finish): \").lower()\n",
        "\n",
        "    if order == 'done':\n",
        "        break\n",
        "\n",
        "    if order in menu:\n",
        "        quantity = int(input(f\"How many {order}s do you want? \"))\n",
        "        if order in order_summary:\n",
        "            order_summary[order] += quantity\n",
        "        else:\n",
        "            order_summary[order] = quantity\n",
        "    else:\n",
        "        print(\"❌ Item not in menu. Please choose from the listed items.\")\n",
        "\n",
        "# Step 5: Final Bill\n",
        "print(\"\\n🧾 Final Bill:\")\n",
        "total = 0\n",
        "for item, qty in order_summary.items():\n",
        "    item_total = prices[item] * qty\n",
        "    total += item_total\n",
        "    print(f\"{item.title()} x {qty} = ₹{item_total}\")\n",
        "\n",
        "print(f\"\\n💰 Total Amount to Pay: ₹{total}\")\n"
      ],
      "metadata": {
        "colab": {
          "base_uri": "https://localhost:8080/"
        },
        "id": "z2PAUR24sqJG",
        "outputId": "98de07d4-f712-4dd8-d99b-e98a3a783476"
      },
      "execution_count": null,
      "outputs": [
        {
          "output_type": "stream",
          "name": "stdout",
          "text": [
            "🍽️ Menu:\n",
            "- Pongal : ₹30\n",
            "- Dosa : ₹25\n",
            "- Tea : ₹10\n",
            "- Coffee : ₹15\n",
            "\n",
            "Enter your item (or type 'done' to finish): Dosa\n",
            "How many dosas do you want? 15\n",
            "\n",
            "Enter your item (or type 'done' to finish): Tea\n",
            "How many teas do you want? 20\n",
            "\n",
            "Enter your item (or type 'done' to finish): pongal\n",
            "How many pongals do you want? 10\n",
            "\n",
            "Enter your item (or type 'done' to finish): done\n",
            "\n",
            "🧾 Final Bill:\n",
            "Dosa x 15 = ₹375\n",
            "Tea x 20 = ₹200\n",
            "Pongal x 10 = ₹300\n",
            "\n",
            "💰 Total Amount to Pay: ₹875\n"
          ]
        }
      ]
    },
    {
      "cell_type": "code",
      "source": [
        "# Step 1: Menu and Prices\n",
        "menu = ['pongal', 'dosa', 'tea', 'coffee']\n",
        "prices = {'pongal': 30, 'dosa': 25, 'tea': 10, 'coffee': 15}\n",
        "\n",
        "# Step 2: Order Collection\n",
        "order_summary = {}\n",
        "\n",
        "# Step 3: Show Menu\n",
        "print(\"🍽️ Menu:\")\n",
        "for item in menu:\n",
        "    print(f\"- {item.title()} : ₹{prices[item]}\")\n",
        "\n",
        "# Step 4: Input Loop\n",
        "while True:\n",
        "    order = input(\"\\nEnter your item (or type 'done' to finish): \").lower()\n",
        "    if order == 'done':\n",
        "        break\n",
        "\n",
        "    if order in menu:\n",
        "        quantity = int(input(f\"How many {order}s? \"))\n",
        "        if order in order_summary:\n",
        "            order_summary[order] += quantity\n",
        "        else:\n",
        "            order_summary[order] = quantity\n",
        "    else:\n",
        "        print(\"❌ Not in menu. Try again.\")\n",
        "\n",
        "# Step 5: Bill Calculation\n",
        "print(\"\\n🧾 Final Bill:\")\n",
        "subtotal = 0\n",
        "for item, qty in order_summary.items():\n",
        "    item_total = prices[item] * qty\n",
        "    subtotal += item_total\n",
        "    print(f\"{item.title()} x {qty} = ₹{item_total}\")\n",
        "\n",
        "# Step 6: GST, Delivery & Discounts\n",
        "gst = round(subtotal * 0.05)       # 5% GST\n",
        "delivery_charge = 20\n",
        "discount = 0\n",
        "\n",
        "if subtotal > 200:\n",
        "    discount = round(subtotal * 0.10)  # 10% off\n",
        "\n",
        "total_amount = subtotal + gst + delivery_charge - discount\n",
        "\n",
        "# Step 7: Print Full Summary\n",
        "print(f\"\\nSubtotal        : ₹{subtotal}\")\n",
        "print(f\"GST (5%)        : ₹{gst}\")\n",
        "print(f\"Delivery Charge : ₹{delivery_charge}\")\n",
        "print(f\"Discount        : ₹{discount}\")\n",
        "print(f\"-----------------------------\")\n",
        "print(f\"💰 Total to Pay : ₹{total_amount}\")\n"
      ],
      "metadata": {
        "colab": {
          "base_uri": "https://localhost:8080/"
        },
        "id": "2KasFh-Ps0Bp",
        "outputId": "d7061d46-392c-4a3b-b674-21d602fbfaa0"
      },
      "execution_count": null,
      "outputs": [
        {
          "output_type": "stream",
          "name": "stdout",
          "text": [
            "🍽️ Menu:\n",
            "- Pongal : ₹30\n",
            "- Dosa : ₹25\n",
            "- Tea : ₹10\n",
            "- Coffee : ₹15\n",
            "\n",
            "Enter your item (or type 'done' to finish): pongal\n",
            "How many pongals? 10\n",
            "\n",
            "Enter your item (or type 'done' to finish): dosa\n",
            "How many dosas? 10\n",
            "\n",
            "Enter your item (or type 'done' to finish): tea\n",
            "How many teas? 10\n",
            "\n",
            "Enter your item (or type 'done' to finish): coffee\n",
            "How many coffees? 10\n",
            "\n",
            "Enter your item (or type 'done' to finish): done\n",
            "\n",
            "🧾 Final Bill:\n",
            "Pongal x 10 = ₹300\n",
            "Dosa x 10 = ₹250\n",
            "Tea x 10 = ₹100\n",
            "Coffee x 10 = ₹150\n",
            "\n",
            "Subtotal        : ₹800\n",
            "GST (5%)        : ₹40\n",
            "Delivery Charge : ₹20\n",
            "Discount        : ₹80\n",
            "-----------------------------\n",
            "💰 Total to Pay : ₹780\n"
          ]
        }
      ]
    }
  ]
}